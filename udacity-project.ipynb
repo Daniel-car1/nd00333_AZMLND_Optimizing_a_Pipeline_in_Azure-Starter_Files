{
 "cells": [
  {
   "cell_type": "code",
   "execution_count": null,
   "metadata": {
    "gather": {
     "logged": 1598275788035
    }
   },
   "outputs": [],
   "source": [
    "from azureml.core import Workspace, Experiment\n",
    "\n",
    "#ws = Workspace.get(name=\"udacity-project\") \n",
    "ws = Workspace.from_config()\n",
    "exp = Experiment(workspace=ws, name=\"udacity-project\")\n",
    "\n",
    "print('Workspace name: ' + ws.name, \n",
    "      'Azure region: ' + ws.location, \n",
    "      'Subscription id: ' + ws.subscription_id, \n",
    "      'Resource group: ' + ws.resource_group, sep = '\\n')\n",
    "\n",
    "run = exp.start_logging()"
   ]
  },
  {
   "cell_type": "code",
   "execution_count": null,
   "metadata": {
    "gather": {
     "logged": 1598275788675
    },
    "jupyter": {
     "outputs_hidden": false,
     "source_hidden": false
    },
    "nteract": {
     "transient": {
      "deleting": false
     }
    }
   },
   "outputs": [],
   "source": [
    "from azureml.core.compute import ComputeTarget, AmlCompute\n",
    "\n",
    "# TODO: Create compute cluster\n",
    "# Use vm_size = \"Standard_D2_V2\" in your provisioning configuration.\n",
    "# max_nodes should be no greater than 4.\n",
    "### YOUR CODE HERE ###\n",
    "\n",
    "# Choose a name for your CPU cluster\n",
    "compute_cluster_name = \"compute-cluster\"\n",
    "\n",
    "# Verify that the cluster does not exist already\n",
    "\n",
    "compute_config = AmlCompute.provisioning_configuration(vm_size='STANDARD_D2_V2',\n",
    "                                                           max_nodes=4)\n",
    "compute_cluster = ComputeTarget.create(ws, compute_cluster_name, compute_config)\n",
    "\n",
    "compute_cluster.wait_for_completion(show_output=True)"
   ]
  },
  {
   "cell_type": "code",
   "execution_count": null,
   "metadata": {
    "gather": {
     "logged": 1598275789986
    },
    "jupyter": {
     "outputs_hidden": false,
     "source_hidden": false
    },
    "nteract": {
     "transient": {
      "deleting": false
     }
    }
   },
   "outputs": [],
   "source": [
    "from azureml.widgets import RunDetails\n",
    "from azureml.train.sklearn import SKLearn\n",
    "from azureml.train.hyperdrive.run import PrimaryMetricGoal\n",
    "from azureml.train.hyperdrive.policy import BanditPolicy\n",
    "from azureml.train.hyperdrive.sampling import RandomParameterSampling\n",
    "from azureml.train.hyperdrive.runconfig import HyperDriveConfig\n",
    "from azureml.train.hyperdrive.parameter_expressions import uniform, choice\n",
    "import os #> es wird in Bild 4 erwähnt\n",
    "\n",
    "# Specify parameter sampler\n",
    "#ps = ### YOUR CODE HERE ### -> uniform. 'Tune hyperparmaters for your model with Azure ML'\n",
    "ps = RandomParameterSampling( {\n",
    "        \"--C\": uniform(0.1, 1.0),\n",
    "        \"--max_iter\": choice([50, 100, 200])\n",
    "    }\n",
    ")\n",
    "\n",
    "# Specify a Policy\n",
    "#policy = ### YOUR CODE HERE ###\n",
    "policy = BanditPolicy(evaluation_interval=1, slack_factor = 0.1) # early_termination_policy\n",
    "\n",
    "if \"training\" not in os.listdir():\n",
    "    os.mkdir(\"./training\")\n",
    "\n",
    "script_folder= './training'\n",
    "os.makedirs(script_folder, exist_ok=True)\n",
    "\n",
    "# Create a SKLearn estimator for use with train.py\n",
    "### YOUR CODE HERE ### 'SKLearn Class' \n",
    "import shutil\n",
    "shutil.copy('./train.py', script_folder)\n",
    "\n",
    "est = SKLearn(source_directory=script_folder, #kann vielleicht entfallen\n",
    "              compute_target=compute_cluster,\n",
    "              script_params={'--C': 1.0, '--max_iter': 100}, #alternatively: ['--C', 1.0, '--max_iter', 100]\n",
    "              entry_script='train.py') #A string representing the relative path to the file used to start training.\n",
    "\n",
    "# Create a HyperDriveConfig using the estimator, hyperparameter sampler, and policy.\n",
    "### YOUR CODE HERE ### 'Tune hyperparameters for your model with Azure ML'\n",
    "hyperdrive_config = HyperDriveConfig(estimator=est,\n",
    "                                     hyperparameter_sampling=ps,\n",
    "                                     policy=policy,\n",
    "                                     primary_metric_name='Accuracy', \n",
    "                                     primary_metric_goal=PrimaryMetricGoal.MAXIMIZE,\n",
    "                                     max_total_runs=20,\n",
    "                                     max_concurrent_runs=3) #similar to the number of nodes"
   ]
  },
  {
   "cell_type": "code",
   "execution_count": null,
   "metadata": {},
   "outputs": [],
   "source": [
    "# Submit your hyperdrive run to the experiment and show run details with the widget.\n",
    "\n",
    "### YOUR CODE HERE ###\n",
    "\n",
    "hyperdrive_run = exp.submit(hyperdrive_config)\n",
    "RunDetails(hyperdrive_run).show()\n",
    "hyperdrive_run.wait_for_completion(show_output=True)\n"
   ]
  },
  {
   "cell_type": "code",
   "execution_count": null,
   "metadata": {
    "gather": {
     "logged": 1598276310862
    },
    "jupyter": {
     "outputs_hidden": false,
     "source_hidden": false
    },
    "nteract": {
     "transient": {
      "deleting": false
     }
    }
   },
   "outputs": [],
   "source": [
    "import joblib\n",
    "# Get your best run and save the model from that run.\n",
    "\n",
    "### YOUR CODE HERE ###\n",
    "\n",
    "best_run = hyperdrive_run.get_best_run_by_primary_metric()\n",
    "\n",
    "#joblib.dump(best_run, 'outputs/SKlearn_hyperdrive.joblib')\n",
    "mod = best_run.register_model(model_name='SKlearn_hyperdrive', model_path='outputs/model.joblib')"
   ]
  },
  {
   "cell_type": "code",
   "execution_count": null,
   "metadata": {},
   "outputs": [],
   "source": [
    "from azureml.data.dataset_factory import TabularDatasetFactory\n",
    "\n",
    "# Create TabularDataset using TabularDatasetFactory\n",
    "# Data is available at: \n",
    "# \"https://automlsamplenotebookdata.blob.core.windows.net/automl-sample-notebook-data/bankmarketing_train.csv\"\n",
    "\n",
    "### YOUR CODE HERE ###\n",
    "dataset = TabularDatasetFactory.from_delimited_files(path='https://automlsamplenotebookdata.blob.core.windows.net/automl-sample-notebook-data/bankmarketing_train.csv', separator=',', header=True, validate=False)\n",
    "#ds = dataset.to_pandas_dataframe() \n"
   ]
  },
  {
   "cell_type": "code",
   "execution_count": null,
   "metadata": {
    "gather": {
     "logged": 1598275726969
    },
    "jupyter": {
     "outputs_hidden": false,
     "source_hidden": false
    },
    "nteract": {
     "transient": {
      "deleting": false
     }
    }
   },
   "outputs": [],
   "source": [
    "from train import clean_data\n",
    "from sklearn.model_selection import train_test_split\n",
    "\n",
    "#from sklearn.preprocessing import OneHotEncoder\n",
    "import pandas as pd\n",
    "from azureml.core.run import Run\n",
    "\n",
    "# Use the clean_data function to clean your data.\n",
    "#x, y = clean_data(### YOUR DATA OBJECT HERE ###)\n",
    "x, y = clean_data(dataset)\n",
    "ds = x.join(y)\n",
    "#todo: Split data into train and test set\n",
    "x_train_df, x_test_df = train_test_split(ds, test_size=0.2)\n"
   ]
  },
  {
   "cell_type": "code",
   "execution_count": null,
   "metadata": {},
   "outputs": [],
   "source": [
    "#Convert Dataframe to TabularDataset\n",
    "\n",
    "from azureml.core import Workspace, Dataset\n",
    "local_path_train = 'data/prepared_x_train.csv'\n",
    "local_path_test = 'data/prepared_x_test.csv'\n",
    "x_train_df.to_csv(local_path_train)\n",
    "x_test_df.to_csv(local_path_test)\n",
    "\n",
    "# upload the local file to a datastore on the cloud\n",
    "\n",
    "subscription_id = 'xxxxxxxxxxxxxxxxxxxxx' \n",
    "resource_group = 'xxxxxx'\n",
    "workspace_name = 'xxxxxxxxxxxxxxxx'\n",
    "\n",
    "workspace = Workspace(subscription_id, resource_group, workspace_name)\n",
    "\n",
    "# get the datastore to upload prepared data\n",
    "datastore = workspace.get_default_datastore()\n",
    "\n",
    "# upload the local file from src_dir to the target_path in datastore\n",
    "datastore.upload(src_dir='data', target_path='data')\n",
    "\n",
    "# create a dataset referencing the cloud location\n",
    "x_train = Dataset.Tabular.from_delimited_files(path = [(datastore, ('data/prepared_x_train.csv'))])\n",
    "x_test = Dataset.Tabular.from_delimited_files(path = [(datastore, ('data/prepared_x_test.csv'))])"
   ]
  },
  {
   "cell_type": "code",
   "execution_count": null,
   "metadata": {
    "gather": {
     "logged": 1598275665403
    },
    "jupyter": {
     "outputs_hidden": false,
     "source_hidden": false
    },
    "nteract": {
     "transient": {
      "deleting": false
     }
    }
   },
   "outputs": [],
   "source": [
    "from azureml.train.automl import AutoMLConfig\n",
    "\n",
    "# Set parameters for AutoMLConfig\n",
    "# NOTE: DO NOT CHANGE THE experiment_timeout_minutes PARAMETER OR YOUR INSTANCE WILL TIME OUT.\n",
    "# If you wish to run the experiment longer, you will need to run this notebook in your own\n",
    "# Azure tenant, which will incur personal costs.\n",
    "automl_config = AutoMLConfig(\n",
    "    compute_target=compute_target\n",
    "    experiment_timeout_minutes=30,\n",
    "    task='classification', #logisticRegression is a classification task\n",
    "    primary_metric='accuracy',\n",
    "    training_data=x_train, \n",
    "    label_column_name='y', #\"y\"\n",
    "    n_cross_validations=5)"
   ]
  },
  {
   "cell_type": "code",
   "execution_count": null,
   "metadata": {},
   "outputs": [],
   "source": [
    "!pip install azureml-core\n",
    "!pip install azureml-explain-model\n",
    "!pip install --upgrade arzureml-sdk[automl]\n",
    "!pip install pyopeenssl=16.0.0\n",
    "!pip install nazureml-core"
   ]
  },
  {
   "cell_type": "code",
   "execution_count": 2,
   "metadata": {
    "jupyter": {
     "outputs_hidden": false,
     "source_hidden": false
    },
    "nteract": {
     "transient": {
      "deleting": false
     }
    }
   },
   "outputs": [],
   "source": [
    "# Submit your automl run\n",
    "from azureml.widgets import RunDetails\n",
    "from azureml.core import Workspace, Experiment\n",
    "### YOUR CODE HERE ###\n",
    "ws= Workspace.from_config()\n",
    "exp= Experiment(workspace=ws, name='udacity-project')\n",
    "\n",
    "run = exp.submit(automl_config, show_output=True)\n",
    "#run.wait_for_completion(show_output=True)\n",
    "#RunDetails(run).show()"
   ]
  },
  {
   "cell_type": "code",
   "execution_count": 1,
   "metadata": {},
   "outputs": [
    {
     "ename": "NameError",
     "evalue": "name 'run' is not defined",
     "output_type": "error",
     "traceback": [
      "\u001b[1;31m---------------------------------------------------------------------------\u001b[0m",
      "\u001b[1;31mNameError\u001b[0m                                 Traceback (most recent call last)",
      "\u001b[1;32m<ipython-input-1-7acfe0358856>\u001b[0m in \u001b[0;36m<module>\u001b[1;34m\u001b[0m\n\u001b[0;32m      3\u001b[0m \u001b[1;31m### YOUR CODE HERE ###\u001b[0m\u001b[1;33m\u001b[0m\u001b[1;33m\u001b[0m\u001b[1;33m\u001b[0m\u001b[0m\n\u001b[0;32m      4\u001b[0m \u001b[1;33m\u001b[0m\u001b[0m\n\u001b[1;32m----> 5\u001b[1;33m \u001b[0mbest_automl_model\u001b[0m \u001b[1;33m=\u001b[0m \u001b[0mrun\u001b[0m\u001b[1;33m.\u001b[0m\u001b[0mget_best_run_by_primary_metric\u001b[0m\u001b[1;33m(\u001b[0m\u001b[1;33m)\u001b[0m\u001b[1;33m\u001b[0m\u001b[1;33m\u001b[0m\u001b[0m\n\u001b[0m\u001b[0;32m      6\u001b[0m \u001b[1;33m\u001b[0m\u001b[0m\n\u001b[0;32m      7\u001b[0m \u001b[0mjoblib\u001b[0m\u001b[1;33m.\u001b[0m\u001b[0mdump\u001b[0m\u001b[1;33m(\u001b[0m\u001b[0mbest_automl_model\u001b[0m\u001b[1;33m,\u001b[0m \u001b[1;34m'AutoML.joblib'\u001b[0m\u001b[1;33m)\u001b[0m\u001b[1;33m\u001b[0m\u001b[1;33m\u001b[0m\u001b[0m\n",
      "\u001b[1;31mNameError\u001b[0m: name 'run' is not defined"
     ]
    }
   ],
   "source": [
    "# Retrieve and save your best automl model.\n",
    "import joblib\n",
    "### YOUR CODE HERE ###\n",
    "\n",
    "best_automl_run, best_model = run.get_output()\n",
    "#best_model_run.register_model(model_name='best_run_automl','./outputs')\n",
    "joblib.dump(value=best_model, filename=\"best_AutoML.pkl\")\n",
    "\n",
    "#best_automl_model = run.get_best_run_by_primary_metric()\n",
    "#joblib.dump(best_automl_model, 'AutoML.joblib')"
   ]
  },
  {
   "cell_type": "code",
   "execution_count": null,
   "metadata": {},
   "outputs": [],
   "source": []
  },
  {
   "cell_type": "code",
   "execution_count": null,
   "metadata": {},
   "outputs": [],
   "source": [
    "compute_target.delete()"
   ]
  },
  {
   "cell_type": "code",
   "execution_count": null,
   "metadata": {},
   "outputs": [],
   "source": [
    "print(finished)"
   ]
  }
 ],
 "metadata": {
  "kernel_info": {
   "name": "python3-azureml"
  },
  "kernelspec": {
   "display_name": "Python 3",
   "language": "python",
   "name": "python3"
  },
  "language_info": {
   "codemirror_mode": {
    "name": "ipython",
    "version": 3
   },
   "file_extension": ".py",
   "mimetype": "text/x-python",
   "name": "python",
   "nbconvert_exporter": "python",
   "pygments_lexer": "ipython3",
   "version": "3.7.4"
  },
  "nteract": {
   "version": "nteract-front-end@1.0.0"
  }
 },
 "nbformat": 4,
 "nbformat_minor": 2
}
